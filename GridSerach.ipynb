{
 "cells": [
  {
   "cell_type": "code",
   "execution_count": null,
   "id": "2bfe698c",
   "metadata": {},
   "outputs": [],
   "source": [
    "from sklearn.datasets import load_digits\n",
    "from sklearn.svm import SVC\n",
    "from sklearn.ensemble import RandomForestClassifier\n",
    "from sklearn.linear_model import LogisticRegression\n",
    "from sklearn.naive_bayes import GaussianNB,MultinomialNB\n",
    "from sklearn.tree import DecisionTreeClassifier\n",
    "import pandas as pd\n",
    "import warnings\n",
    "warnings.filterwarnings('ignore')"
   ]
  },
  {
   "cell_type": "code",
   "execution_count": null,
   "id": "07bbfee5",
   "metadata": {},
   "outputs": [],
   "source": [
    "d=load_digits()"
   ]
  },
  {
   "cell_type": "code",
   "execution_count": null,
   "id": "7c504133",
   "metadata": {},
   "outputs": [],
   "source": [
    "D=pd.DataFrame(d.data,columns=d.feature_names)"
   ]
  },
  {
   "cell_type": "code",
   "execution_count": null,
   "id": "f2b81e3f",
   "metadata": {},
   "outputs": [],
   "source": [
    "x=D"
   ]
  },
  {
   "cell_type": "code",
   "execution_count": null,
   "id": "be6a6deb",
   "metadata": {},
   "outputs": [],
   "source": [
    "y=d.target"
   ]
  },
  {
   "cell_type": "code",
   "execution_count": null,
   "id": "d44e0061",
   "metadata": {},
   "outputs": [],
   "source": [
    "from sklearn.model_selection import GridSearchCV\n",
    "clf=GridSearchCV(SVC(gamma='auto'),{\n",
    "    'C':[1,10,15],\n",
    "    'kernel':['linear','rbf']\n",
    "},cv=5,return_train_score=False)\n"
   ]
  },
  {
   "cell_type": "code",
   "execution_count": null,
   "id": "15869bd7",
   "metadata": {},
   "outputs": [],
   "source": [
    "clf.fit(x,y)"
   ]
  },
  {
   "cell_type": "code",
   "execution_count": null,
   "id": "1c0d5c9b",
   "metadata": {},
   "outputs": [],
   "source": [
    "clf.cv_results_"
   ]
  },
  {
   "cell_type": "code",
   "execution_count": null,
   "id": "1e5dcaf3",
   "metadata": {},
   "outputs": [],
   "source": [
    "df1=pd.DataFrame(clf.cv_results_)"
   ]
  },
  {
   "cell_type": "code",
   "execution_count": null,
   "id": "13f8786d",
   "metadata": {},
   "outputs": [],
   "source": [
    "df1"
   ]
  },
  {
   "cell_type": "code",
   "execution_count": null,
   "id": "94869b9b",
   "metadata": {},
   "outputs": [],
   "source": [
    "f=df1[['param_C','param_kernel','mean_test_score']]"
   ]
  },
  {
   "cell_type": "code",
   "execution_count": null,
   "id": "dd1d55b0",
   "metadata": {},
   "outputs": [],
   "source": [
    "f"
   ]
  },
  {
   "cell_type": "code",
   "execution_count": null,
   "id": "259eff6e",
   "metadata": {},
   "outputs": [],
   "source": [
    "clf.best_score_"
   ]
  },
  {
   "cell_type": "code",
   "execution_count": null,
   "id": "bf66a2d7",
   "metadata": {},
   "outputs": [],
   "source": [
    "clf.best_params_"
   ]
  },
  {
   "cell_type": "code",
   "execution_count": null,
   "id": "a4e45753",
   "metadata": {
    "scrolled": true
   },
   "outputs": [],
   "source": [
    "model_params = {\n",
    "    'lr': {\n",
    "        'model':LogisticRegression(),\n",
    "        'params' : {\n",
    "            'C':[1,5,10]\n",
    "        }\n",
    "},\n",
    "    'rf' : {\n",
    "        'model':RandomForestClassifier(),\n",
    "        'params' : {\n",
    "            'n_estimators':[1,5,10]\n",
    "        }\n",
    "},\n",
    "    'nb' : {\n",
    "        'model' : GaussianNB(),\n",
    "        'params' : {}\n",
    "},\n",
    "    'nb' : {\n",
    "        'model' : MultinomialNB(),\n",
    "        'params' : {}\n",
    "},\n",
    "    'dt' : {\n",
    "        'model' : DecisionTreeClassifier(),\n",
    "        'params' : {\n",
    "            'criterion' : ['gini','entropy']\n",
    "        }\n",
    "},\n",
    "    'svm': {\n",
    "        'model': SVC(gamma='auto'),\n",
    "        'params' : {\n",
    "            'C': [1,10,20],\n",
    "            'kernel': ['rbf','linear']\n",
    "        }\n",
    "}  \n",
    "}"
   ]
  },
  {
   "cell_type": "code",
   "execution_count": null,
   "id": "f169a85d",
   "metadata": {},
   "outputs": [],
   "source": [
    "from sklearn.model_selection import GridSearchCV\n",
    "scores=[]\n",
    "for model_name, mp in model_params.items():\n",
    "    clf =  GridSearchCV(mp['model'], mp['params'], cv=5, return_train_score=False)\n",
    "    clf.fit(x, y)\n",
    "    scores.append({\n",
    "        'model': model_name,\n",
    "        'best_score': clf.best_score_,\n",
    "        'best_params': clf.best_params_\n",
    "    })\n",
    "    "
   ]
  },
  {
   "cell_type": "code",
   "execution_count": null,
   "id": "605218ed",
   "metadata": {},
   "outputs": [],
   "source": [
    "df=pd.DataFrame(scores,columns=['model','best_score','best_params'])"
   ]
  },
  {
   "cell_type": "code",
   "execution_count": null,
   "id": "29476ab2",
   "metadata": {},
   "outputs": [],
   "source": [
    "df"
   ]
  },
  {
   "cell_type": "code",
   "execution_count": null,
   "id": "03454b49",
   "metadata": {},
   "outputs": [],
   "source": []
  }
 ],
 "metadata": {
  "kernelspec": {
   "display_name": "Python 3 (ipykernel)",
   "language": "python",
   "name": "python3"
  },
  "language_info": {
   "codemirror_mode": {
    "name": "ipython",
    "version": 3
   },
   "file_extension": ".py",
   "mimetype": "text/x-python",
   "name": "python",
   "nbconvert_exporter": "python",
   "pygments_lexer": "ipython3",
   "version": "3.11.5"
  }
 },
 "nbformat": 4,
 "nbformat_minor": 5
}
